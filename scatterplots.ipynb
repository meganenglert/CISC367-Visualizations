{
 "cells": [
  {
   "cell_type": "markdown",
   "id": "running-detector",
   "metadata": {},
   "source": [
    "# Scatterplots\n",
    "By Matthew, Drew, and Megan\n",
    "## What is a scatterplot?\n",
    "A scatterplot is a visualization where 2 quantitative variables of an observation are plotted against each other on the x and y axis.\n",
    "## What is a scatterplot used for?\n",
    "Scatterplots are used to visualize the correlation between 2 quantitative variables, i.e. does a certain value of one variable increase the likelihood of a higher or lower value of the other variable?\n",
    "Some good examples of where a scatterplot could be useful:\n",
    "- You survey students for their GPA and SAT score, you can plot each individual's GPA and SAT score in a scatterplot to see how well they're related.\n",
    "- You run an experiment with several concentrations of a reactant and record the corresponding product's concentrations. You can plot reactant concentration against product concentration to see their relationship."
   ]
  },
  {
   "cell_type": "markdown",
   "id": "latter-driver",
   "metadata": {},
   "source": [
    "## What are some mistakes people make when using scatterplots?\n",
    "- The two values of each point should be associated with each other! If you have a list of GPAs and a list of SAT scores but don't know which GPA got which score, you can't make a scatterplot.\n",
    "- Don't overplot the graph so the point where it's just a massive blob with no distinguishable points.\n",
    "- With too few points, it could look like something has a stronger or weaker relationship than it actually does. As in most graphs, more data is better with the correct spacing.\n",
    "- Depending on the data, a linear correlation may not always be obvious. Especially when calculating the numeric value of correlation, you may need to transform the data with a function, like logarithm or exponentiating. A perfect parabola can have a 0 correlation, which would indicate no relationship.\n",
    "- As we saw with the pirate example in class, make sure you don't make assumptions about causation. When discussing scatterplots, be sure to always say that the two values are correlated or related, rather than that one causes the other, unless you have an experiment to prove it."
   ]
  },
  {
   "cell_type": "code",
   "execution_count": null,
   "id": "floating-theme",
   "metadata": {},
   "outputs": [],
   "source": []
  }
 ],
 "metadata": {
  "kernelspec": {
   "display_name": "Python 3",
   "language": "python",
   "name": "python3"
  },
  "language_info": {
   "codemirror_mode": {
    "name": "ipython",
    "version": 3
   },
   "file_extension": ".py",
   "mimetype": "text/x-python",
   "name": "python",
   "nbconvert_exporter": "python",
   "pygments_lexer": "ipython3",
   "version": "3.9.1"
  }
 },
 "nbformat": 4,
 "nbformat_minor": 5
}
